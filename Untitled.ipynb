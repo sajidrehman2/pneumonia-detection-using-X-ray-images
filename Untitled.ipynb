{
 "cells": [
  {
   "cell_type": "code",
   "execution_count": 1,
   "id": "40188570-2d6f-4fda-b7b2-b84c7720f673",
   "metadata": {},
   "outputs": [
    {
     "name": "stderr",
     "output_type": "stream",
     "text": [
      "2025-01-18 22:06:31.865 \n",
      "  \u001b[33m\u001b[1mWarning:\u001b[0m to view this Streamlit app on a browser, run it with the following\n",
      "  command:\n",
      "\n",
      "    streamlit run C:\\Users\\perfect\\anaconda3\\Lib\\site-packages\\ipykernel_launcher.py [ARGUMENTS]\n"
     ]
    }
   ],
   "source": [
    "import streamlit as st\n",
    "import tensorflow as tf\n",
    "from tensorflow.keras.models import load_model\n",
    "from tensorflow.keras.preprocessing import image\n",
    "import numpy as np\n",
    "import os\n",
    "from PIL import Image\n",
    "\n",
    "# Define your custom Swish activation function if it's not already loaded\n",
    "def swish_activation(x):\n",
    "    return x * tf.nn.sigmoid(x)\n",
    "\n",
    "# Load your trained model\n",
    "model = load_model('final_model.keras', custom_objects={'swish_activation': swish_activation})\n",
    "\n",
    "# Set up the Streamlit app\n",
    "st.title(\"Pneumonia Detection Model\")\n",
    "st.write(\"This app uses a Convolutional Neural Network (CNN) to classify chest X-rays as either 'Normal' or 'Pneumonia'.\")\n",
    "\n",
    "# Upload image functionality\n",
    "uploaded_file = st.file_uploader(\"Choose an image...\", type=[\"jpg\", \"jpeg\", \"png\"])\n",
    "\n",
    "if uploaded_file is not None:\n",
    "    # Open and display the image\n",
    "    img = Image.open(uploaded_file)\n",
    "    st.image(img, caption='Uploaded Image.', use_column_width=True)\n",
    "    \n",
    "    # Prepare the image for prediction\n",
    "    img = img.resize((150, 150))  # Resize the image to match the model input size\n",
    "    img_array = np.array(img) / 255.0  # Normalize the image\n",
    "    img_array = np.expand_dims(img_array, axis=0)  # Add batch dimension\n",
    "\n",
    "    # Make prediction\n",
    "    prediction = model.predict(img_array)\n",
    "\n",
    "    # Display the prediction result\n",
    "    if prediction[0] > 0.5:\n",
    "        st.write(\"Prediction: Pneumonia\")\n",
    "    else:\n",
    "        st.write(\"Prediction: Normal\")\n",
    "\n"
   ]
  },
  {
   "cell_type": "code",
   "execution_count": null,
   "id": "52a028a6-7155-4208-9cf3-c44be07cd0c5",
   "metadata": {},
   "outputs": [],
   "source": []
  }
 ],
 "metadata": {
  "kernelspec": {
   "display_name": "Python 3 (ipykernel)",
   "language": "python",
   "name": "python3"
  },
  "language_info": {
   "codemirror_mode": {
    "name": "ipython",
    "version": 3
   },
   "file_extension": ".py",
   "mimetype": "text/x-python",
   "name": "python",
   "nbconvert_exporter": "python",
   "pygments_lexer": "ipython3",
   "version": "3.12.3"
  }
 },
 "nbformat": 4,
 "nbformat_minor": 5
}
